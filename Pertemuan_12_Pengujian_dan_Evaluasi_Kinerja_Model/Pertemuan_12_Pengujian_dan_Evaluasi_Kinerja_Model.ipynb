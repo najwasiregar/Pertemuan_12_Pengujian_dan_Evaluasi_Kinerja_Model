{
  "cells": [
    {
      "cell_type": "markdown",
      "metadata": {
        "id": "PNOj8cGgvaC5"
      },
      "source": [
        "# Pertemuan 12 - Pengujian dan Evaluasi Kinerja Model\n",
        "\n",
        "## Capaian Pembelajaran:\n",
        "> 4.2: Mampu menguji dan mengevaluasi kinerja model machine learning secara komprehensif dengan melakukan validasi silang dan analisis error menggunakan bahasa pemrograman Python dan perangkat lunak pendukung.\n",
        "\n",
        "## Pokok Bahasan\n",
        "1. Cross Validation\n",
        "2. K-Fold Cross-Validation,\n",
        "3. Leave-One-Out Cross-Validation\n",
        "4. Stratified Cross-Validation\n",
        "5. Confusion Matrix\n",
        "6. Error Analysis\n",
        "7. Interpretasi Hasil Error\n"
      ]
    },
    {
      "cell_type": "markdown",
      "metadata": {
        "id": "J7ZTjlxBvaC8"
      },
      "source": [
        "## 1. Cross Validation\n",
        "Cross-validation adalah teknik yang digunakan dalam machine learning untuk menilai seberapa baik model prediktif akan bekerja pada data independen dari data yang digunakan untuk melatih model. Ini membantu dalam mengukur generalisasi model ke data yang tidak terlihat, yang sangat penting untuk memastikan model yang robust dan andal. Cross-validation membagi data set menjadi dua bagian utama: data pelatihan (training) dan data pengujian (testing). Dalam praktik, data sering kali dibagi menjadi beberapa subset (folds), dan proses pelatihan serta pengujian dilakukan beberapa kali dengan subset yang berbeda.\n",
        "\n",
        "#### A. Jenis-Jenis Cross Validation\n",
        "##### a. K-Fold Cross-Validation\n",
        "- Proses: Data dibagi menjadi k subset (atau folds) yang hampir sama besar. Model dilatih k kali, setiap kali menggunakan k-1 subset sebagai data pelatihan dan 1 subset sebagai data pengujian.\n",
        "- Keunggulan: Memastikan setiap data point diuji dan digunakan dalam pelatihan.\n",
        "- Kelemahan: Memerlukan komputasi yang lebih besar dibandingkan metode lain.\n",
        "\n",
        "##### b. Stratified K-Fold Cross-Validation\n",
        "- Proses: Mirip dengan K-Fold, tetapi memastikan setiap fold memiliki distribusi yang sama dari kelas yang berbeda.\n",
        "- Keunggulan: Sangat berguna untuk dataset yang tidak seimbang, menjaga proporsi kelas dalam setiap fold.\n",
        "\n",
        "##### c. Leave-One-Out Cross-Validation (LOOCV)\n",
        "- Proses: Setiap data point digunakan sekali sebagai data pengujian dan sisanya sebagai data pelatihan.\n",
        "- Keunggulan: Menggunakan seluruh data untuk pelatihan dan pengujian.\n",
        "- Kelemahan: Sangat mahal dalam komputasi untuk dataset besar.\n",
        "\n",
        "##### d. Hold-Out Method\n",
        "- Proses: Data dibagi sekali menjadi dua set, satu untuk pelatihan dan satu untuk pengujian.\n",
        "- Keunggulan: Cepat dan sederhana.\n",
        "- Kelemahan: Dapat menghasilkan hasil yang bervariasi tergantung pada bagaimana data dibagi.\n",
        "\n",
        "##### e. Time Series Cross-Validation\n",
        "- Proses: Data dibagi berdasarkan urutan waktu. Data awal digunakan untuk pelatihan dan data berikutnya untuk pengujian.\n",
        "- Keunggulan: Cocok untuk data time series.\n",
        "- Kelemahan: Tidak dapat diacak seperti metode lain.\n",
        "\n",
        "#### B. Manfaat Cross-Validation\n",
        "- Akurasi Model: Memberikan estimasi yang lebih akurat tentang kinerja model pada data tidak terlihat.\n",
        "- Bias dan Variance: Membantu mengidentifikasi masalah bias tinggi (underfitting) atau variance tinggi (overfitting).\n",
        "- Model Selection: Membantu dalam pemilihan model terbaik dari beberapa kandidat.\n",
        "\n",
        "#### C. Kelemahan\n",
        "- Komputasi Intensif: Memerlukan komputasi yang lebih besar, terutama pada dataset besar atau model kompleks.\n",
        "- Tidak Menangani dengan Baik Data Time Series: Metode standar cross-validation tidak cocok untuk data time series yang memerlukan pemesanan temporal.\n"
      ]
    },
    {
      "cell_type": "markdown",
      "metadata": {
        "id": "tryHgcAhvaC-"
      },
      "source": [
        "#### Implementasi\n",
        "Dalam implementasi, kita menggunakan library seperti scikit-learn di Python yang menyediakan fungsi-fungsi untuk melakukan cross-validation dengan mudah."
      ]
    },
    {
      "cell_type": "code",
      "execution_count": 1,
      "metadata": {
        "id": "QExbdhfsvaC_",
        "outputId": "301dc21c-0fbe-4357-b6b7-186bda89e1c8",
        "colab": {
          "base_uri": "https://localhost:8080/"
        }
      },
      "outputs": [
        {
          "output_type": "stream",
          "name": "stdout",
          "text": [
            "Cross-Validation Scores: [1.         0.96666667 0.93333333 0.93333333 0.96666667]\n",
            "Mean Score: 0.9600000000000002\n"
          ]
        }
      ],
      "source": [
        "from sklearn.model_selection import cross_val_score, KFold\n",
        "from sklearn.ensemble import RandomForestClassifier\n",
        "from sklearn.datasets import load_iris\n",
        "\n",
        "# Load dataset\n",
        "data = load_iris()\n",
        "X, y = data.data, data.target\n",
        "\n",
        "# Define model\n",
        "model = RandomForestClassifier()\n",
        "\n",
        "# Define cross-validation method\n",
        "kf = KFold(n_splits=5, shuffle=True, random_state=42)\n",
        "\n",
        "# Perform cross-validation\n",
        "scores = cross_val_score(model, X, y, cv=kf)\n",
        "\n",
        "print(\"Cross-Validation Scores:\", scores)\n",
        "print(\"Mean Score:\", scores.mean())"
      ]
    },
    {
      "cell_type": "markdown",
      "metadata": {
        "id": "wVReJ5IZvaDB"
      },
      "source": [
        "Cross-validation adalah teknik yang penting dan luas digunakan dalam machine learning untuk mengukur kinerja model secara lebih akurat. Memahami dan menerapkan cross-validation dengan benar dapat sangat meningkatkan keandalan dan generalisasi model, yang pada akhirnya menghasilkan prediksi yang lebih baik pada data tidak terlihat."
      ]
    },
    {
      "cell_type": "markdown",
      "metadata": {
        "id": "s3YZyoRYvaDB"
      },
      "source": [
        "## 2. K-Fold Cross-Validation\n",
        "K-Fold Cross-Validation adalah salah satu teknik cross-validation yang paling populer dan sering digunakan dalam machine learning. Teknik ini membagi dataset menjadi k subset atau “folds” yang hampir sama besar, dan proses pelatihan serta pengujian dilakukan sebanyak k kali, setiap kali menggunakan k-1 subset sebagai data pelatihan dan 1 subset sebagai data pengujian.\n",
        "\n",
        "#### Langkah-Langkah K-Fold Cross-Validation\n",
        "1. Pembagian Data: Dataset dibagi menjadi k subset yang hampir sama besar. Misalnya, jika k = 5, maka dataset dibagi menjadi 5 bagian.\n",
        "2. Proses Pelatihan dan Pengujian:\n",
        "- Pada iterasi pertama, fold pertama digunakan sebagai data pengujian, dan fold kedua hingga kelima digunakan sebagai data pelatihan.\n",
        "- Pada iterasi kedua, fold kedua digunakan sebagai data pengujian, dan fold pertama, serta fold ketiga hingga kelima digunakan sebagai data pelatihan.\n",
        "- Proses ini diulang hingga setiap fold telah digunakan sekali sebagai data pengujian.\n",
        "3. Evaluasi Model: Pada setiap iterasi, model dilatih menggunakan data pelatihan dan dievaluasi menggunakan data pengujian. Hasil evaluasi dari setiap iterasi dicatat.\n",
        "4. Perhitungan Skor Rata-Rata: Setelah semua iterasi selesai, hasil evaluasi (misalnya akurasi, presisi, recall, dll.) dari setiap iterasi dirata-ratakan untuk memberikan estimasi kinerja model."
      ]
    },
    {
      "cell_type": "markdown",
      "metadata": {
        "id": "gd4G9xhjvaDD"
      },
      "source": [
        "#### Contoh Implementasi K-Fold Cross-Validation\n",
        "Berikut adalah contoh implementasi K-Fold Cross-Validation menggunakan scikit-learn di Python:\n"
      ]
    },
    {
      "cell_type": "code",
      "execution_count": 2,
      "metadata": {
        "id": "FFIgzQPfvaDE",
        "outputId": "a3314122-69f7-4ad9-9476-e12e9be12d10",
        "colab": {
          "base_uri": "https://localhost:8080/"
        }
      },
      "outputs": [
        {
          "output_type": "stream",
          "name": "stdout",
          "text": [
            "Cross-Validation Scores: [1.         0.96666667 0.93333333 0.93333333 0.96666667]\n",
            "Mean Score: 0.9600000000000002\n"
          ]
        }
      ],
      "source": [
        "from sklearn.model_selection import KFold, cross_val_score\n",
        "from sklearn.ensemble import RandomForestClassifier\n",
        "from sklearn.datasets import load_iris\n",
        "\n",
        "# Load dataset\n",
        "data = load_iris()\n",
        "X, y = data.data, data.target\n",
        "\n",
        "# Define model\n",
        "model = RandomForestClassifier()\n",
        "\n",
        "# Define K-Fold Cross-Validation\n",
        "kf = KFold(n_splits=5, shuffle=True, random_state=42)\n",
        "\n",
        "# Perform K-Fold Cross-Validation\n",
        "scores = cross_val_score(model, X, y, cv=kf)\n",
        "\n",
        "print(\"Cross-Validation Scores:\", scores)\n",
        "print(\"Mean Score:\", scores.mean())"
      ]
    },
    {
      "cell_type": "markdown",
      "metadata": {
        "id": "uBSaqDclvaDF"
      },
      "source": [
        "#### Keunggulan K-Fold Cross-Validation\n",
        "- Menggunakan Seluruh Data: Setiap data point digunakan sebagai bagian dari data pelatihan dan data pengujian, sehingga memaksimalkan penggunaan dataset.\n",
        "- Mengurangi Variansi: Hasil evaluasi yang diperoleh lebih stabil karena dilakukan pada beberapa subset yang berbeda.\n",
        "- Generalizability: Memberikan estimasi yang lebih baik tentang kinerja model pada data yang tidak terlihat dibandingkan metode hold-out sederhana."
      ]
    },
    {
      "cell_type": "markdown",
      "metadata": {
        "id": "Dye8xmBFvaDG"
      },
      "source": [
        "#### Kelemahan K-Fold Cross-Validation\n",
        "- Komputasi yang Lebih Besar: Memerlukan pelatihan model k kali, yang bisa menjadi mahal dari segi komputasi terutama untuk dataset yang besar dan model yang kompleks.\n",
        "- Tidak Cocok untuk Data Time Series: K-Fold Cross-Validation tidak cocok untuk data time series yang memerlukan urutan temporal tertentu."
      ]
    },
    {
      "cell_type": "markdown",
      "metadata": {
        "id": "3gYMQExavaDG"
      },
      "source": [
        "#### Variasi K-Fold Cross-Validation\n",
        "- Stratified K-Fold: Memastikan bahwa setiap fold memiliki distribusi kelas yang sama dengan distribusi kelas asli. Ini sangat berguna untuk dataset dengan kelas yang tidak seimbang.\n",
        "- Repeated K-Fold: Mengulang proses K-Fold Cross-Validation beberapa kali dengan pembagian data yang berbeda pada setiap pengulangan untuk mendapatkan estimasi kinerja yang lebih akurat."
      ]
    },
    {
      "cell_type": "markdown",
      "metadata": {
        "id": "1rtHvdYtvaDH"
      },
      "source": [
        "## 3. Leave-One-Out Cross-Validation\n",
        "Leave-One-Out Cross-Validation (LOOCV) adalah variasi dari K-Fold Cross-Validation yang sangat ekstrem di mana jumlah fold sama dengan jumlah data point dalam dataset. Dalam LOOCV, setiap data point digunakan sekali sebagai data pengujian dan semua data point lainnya digunakan sebagai data pelatihan. Ini berarti bahwa jika Anda memiliki n data point, model akan dilatih n kali.\n",
        "\n",
        "#### Langkah-Langkah LOOCV\n",
        "1. Pembagian Data: Dataset dibagi menjadi n subset, di mana n adalah jumlah total data point dalam dataset. Setiap subset hanya terdiri dari satu data point.\n",
        "2. Oroses Pelatihan dan Pengujian:\n",
        "- Pada setiap iterasi, satu data point dipisahkan sebagai data pengujian, dan data point yang tersisa digunakan sebagai data pelatihan.\n",
        "- Model dilatih menggunakan data pelatihan dan dievaluasi menggunakan data pengujian.\n",
        "- Proses ini diulang hingga setiap data point telah digunakan sekali sebagai data pengujian.\n",
        "3. Evaluasi Model: Hasil evaluasi (misalnya akurasi, kesalahan, dll.) dari setiap iterasi dicatat.\n",
        "4. Perhitungan Skor Rata-Rata: Setelah semua iterasi selesai, hasil evaluasi dari setiap iterasi dirata-ratakan untuk memberikan estimasi kinerja model."
      ]
    },
    {
      "cell_type": "code",
      "execution_count": 4,
      "metadata": {
        "id": "Ic11GbGVvaDI",
        "outputId": "fcccbe8d-5be8-4a29-edb5-27cadf7b471f",
        "colab": {
          "base_uri": "https://localhost:8080/"
        }
      },
      "outputs": [
        {
          "output_type": "stream",
          "name": "stdout",
          "text": [
            "Cross-Validation Scores: [1. 1. 1. 1. 1. 1. 1. 1. 1. 1. 1. 1. 1. 1. 1. 1. 1. 1. 1. 1. 1. 1. 1. 1.\n",
            " 1. 1. 1. 1. 1. 1. 1. 1. 1. 1. 1. 1. 1. 1. 1. 1. 1. 1. 1. 1. 1. 1. 1. 1.\n",
            " 1. 1. 1. 1. 1. 1. 1. 1. 1. 1. 1. 1. 1. 1. 1. 1. 1. 1. 1. 1. 1. 1. 0. 1.\n",
            " 1. 1. 1. 1. 1. 0. 1. 1. 1. 1. 1. 0. 1. 1. 1. 1. 1. 1. 1. 1. 1. 1. 1. 1.\n",
            " 1. 1. 1. 1. 1. 1. 1. 1. 1. 1. 0. 1. 1. 1. 1. 1. 1. 1. 1. 1. 1. 1. 1. 0.\n",
            " 1. 1. 1. 1. 1. 1. 1. 1. 1. 1. 1. 1. 1. 0. 1. 1. 1. 1. 0. 1. 1. 1. 1. 1.\n",
            " 1. 1. 1. 1. 1. 1.]\n",
            "Mean Score: 0.9533333333333334\n"
          ]
        }
      ],
      "source": [
        "#### Contoh Implementasi LOOCV\n",
        "\n",
        "from sklearn.model_selection import LeaveOneOut, cross_val_score\n",
        "from sklearn.ensemble import RandomForestClassifier\n",
        "from sklearn.datasets import load_iris\n",
        "\n",
        "# Load dataset\n",
        "data = load_iris()\n",
        "X, y = data.data, data.target\n",
        "\n",
        "# Define model\n",
        "model = RandomForestClassifier()\n",
        "\n",
        "# Define Leave-One-Out Cross-Validation\n",
        "loo = LeaveOneOut()\n",
        "\n",
        "# Perform LOOCV\n",
        "scores = cross_val_score(model, X, y, cv=loo)\n",
        "\n",
        "print(\"Cross-Validation Scores:\", scores)\n",
        "print(\"Mean Score:\", scores.mean())"
      ]
    },
    {
      "cell_type": "markdown",
      "metadata": {
        "id": "eC6EEhU9vaDI"
      },
      "source": [
        "#### Keunggulan LOOCV\n",
        "- Penggunaan Maksimal Data: Setiap data point digunakan untuk pelatihan dan pengujian, sehingga memaksimalkan penggunaan dataset.\n",
        "- Tidak Ada Pembagian Data Acak: Menghilangkan variabilitas yang berasal dari pembagian data acak, memberikan hasil yang sangat deterministik.\n",
        "\n",
        "#### Kelemahan LOOCV\n",
        "- Komputasi yang Sangat Intensif: Memerlukan pelatihan model sebanyak n kali, yang bisa sangat mahal dari segi komputasi terutama untuk dataset yang besar.\n",
        "- High Variance: Hasil dari LOOCV dapat memiliki variansi yang tinggi karena evaluasi dilakukan hanya pada satu data point setiap kali, yang dapat menyebabkan hasil yang sangat bervariasi jika data point tersebut adalah outlier.\n",
        "\n",
        "#### Penggunaan LOOCV dalam Praktik\n",
        "LOOCV sering digunakan dalam situasi di mana dataset sangat kecil, dan penting untuk memaksimalkan penggunaan setiap data point. Namun, untuk dataset yang lebih besar, K-Fold Cross-Validation (dengan k yang lebih kecil dari n) lebih sering digunakan karena mengurangi beban komputasi sambil tetap memberikan estimasi kinerja yang baik. Dengan LOOCV, kita mendapatkan estimasi yang sangat akurat tentang bagaimana model akan berperforma pada data yang belum pernah dilihat, tetapi dengan biaya komputasi yang sangat tinggi. Oleh karena itu, pemilihan antara LOOCV dan metode cross-validation lainnya harus mempertimbangkan ukuran dataset dan sumber daya komputasi yang tersedia."
      ]
    },
    {
      "cell_type": "markdown",
      "metadata": {
        "id": "5Urft4DKvaDJ"
      },
      "source": [
        "## 4. Stratified Cross-Validation\n",
        "Stratified Cross-Validation adalah variasi dari K-Fold Cross-Validation yang memastikan bahwa setiap fold atau subset memiliki distribusi kelas yang serupa dengan distribusi kelas pada dataset asli. Hal ini sangat berguna untuk dataset dengan kelas yang tidak seimbang, di mana jumlah data dalam satu kelas jauh lebih sedikit dibandingkan kelas lainnya. Dengan menggunakan Stratified Cross-Validation, kita bisa mendapatkan evaluasi kinerja model yang lebih representatif.\n",
        "\n",
        "#### Langkah-Langkah Stratified Cross-Validation\n",
        "1. Pembagian Data: Dataset dibagi menjadi k subset (folds) seperti pada K-Fold Cross-Validation, tetapi pembagian ini dilakukan dengan menjaga distribusi kelas dalam setiap subset tetap serupa dengan distribusi kelas pada dataset asli.\n",
        "2. Proses Pelatihan dan Pengujian:\n",
        "- Pada iterasi pertama, fold pertama digunakan sebagai data pengujian, dan fold kedua hingga k digunakan sebagai data pelatihan.\n",
        "- Pada iterasi kedua, fold kedua digunakan sebagai data pengujian, dan fold pertama serta fold ketiga hingga k digunakan sebagai data pelatihan.\n",
        "- Proses ini diulang hingga setiap fold telah digunakan sekali sebagai data pengujian.\n",
        "3. Evaluasi Model: Pada setiap iterasi, model dilatih menggunakan data pelatihan dan dievaluasi menggunakan data pengujian. Hasil evaluasi dari setiap iterasi dicatat.\n",
        "4. Perhitungan Skor Rata-Rata: Setelah semua iterasi selesai, hasil evaluasi dari setiap iterasi dirata-ratakan untuk memberikan estimasi kinerja model.\n"
      ]
    },
    {
      "cell_type": "markdown",
      "metadata": {
        "id": "uvOJIQQBvaDJ"
      },
      "source": [
        "#### Contoh Implementasi Stratified Cross-Validation\n",
        "Berikut adalah contoh implementasi Stratified Cross-Validation menggunakan scikit-learn di Python:"
      ]
    },
    {
      "cell_type": "code",
      "execution_count": 5,
      "metadata": {
        "id": "1xXvQXIVvaDK",
        "outputId": "3151795c-8df1-4437-ac98-f42e3b33a433",
        "colab": {
          "base_uri": "https://localhost:8080/"
        }
      },
      "outputs": [
        {
          "output_type": "stream",
          "name": "stdout",
          "text": [
            "Stratified Cross-Validation Scores: [1.         0.96666667 0.93333333 1.         0.9       ]\n",
            "Mean Score: 0.9600000000000002\n"
          ]
        }
      ],
      "source": [
        "from sklearn.model_selection import StratifiedKFold, cross_val_score\n",
        "from sklearn.ensemble import RandomForestClassifier\n",
        "from sklearn.datasets import load_iris\n",
        "\n",
        "# Load dataset\n",
        "data = load_iris()\n",
        "X, y = data.data, data.target\n",
        "\n",
        "# Define model\n",
        "model = RandomForestClassifier()\n",
        "\n",
        "# Define Stratified K-Fold Cross-Validation\n",
        "skf = StratifiedKFold(n_splits=5, shuffle=True, random_state=42)\n",
        "\n",
        "# Perform Stratified K-Fold Cross-Validation\n",
        "scores = cross_val_score(model, X, y, cv=skf)\n",
        "\n",
        "print(\"Stratified Cross-Validation Scores:\", scores)\n",
        "print(\"Mean Score:\", scores.mean())"
      ]
    },
    {
      "cell_type": "markdown",
      "metadata": {
        "id": "um48A1tUvaDK"
      },
      "source": [
        "#### Keunggulan Stratified Cross-Validation\n",
        "- Distribusi Kelas yang Seimbang: Menjaga proporsi kelas yang sama di setiap fold, yang sangat penting untuk dataset dengan kelas yang tidak seimbang.\n",
        "- Estimasi Kinerja yang Akurat: Memberikan estimasi kinerja model yang lebih representatif karena distribusi kelas yang terjaga.\n",
        "\n",
        "\n",
        "#### Kelemahan Stratified Cross-Validation\n",
        "- Kompleksitas Tambahan: Memerlukan langkah tambahan untuk memastikan bahwa setiap fold memiliki distribusi kelas yang sama, yang bisa lebih rumit dibandingkan K-Fold Cross-Validation biasa.\n",
        "\n",
        "#### Penggunaan dalam Praktik\n",
        "Stratified Cross-Validation sangat berguna dalam situasi di mana dataset memiliki kelas yang tidak seimbang, seperti dalam masalah klasifikasi di mana satu kelas jauh lebih banyak atau lebih sedikit daripada kelas lainnya. Dengan memastikan bahwa setiap fold memiliki distribusi kelas yang sama, kita dapat menghindari bias dalam evaluasi kinerja model dan mendapatkan gambaran yang lebih akurat tentang bagaimana model akan berperforma pada data yang tidak terlihat. Dalam prakteknya, Stratified Cross-Validation sering digunakan dalam klasifikasi biner dan multi-kelas, serta dalam berbagai domain seperti kedokteran, keuangan, dan ilmu sosial di mana dataset sering kali tidak seimbang."
      ]
    },
    {
      "cell_type": "markdown",
      "metadata": {
        "id": "76dGOwH9vaDL"
      },
      "source": [
        "## 5. Confusion Matrix\n",
        "Confusion Matrix adalah alat evaluasi yang digunakan dalam klasifikasi machine learning untuk memahami kinerja model. Matrix ini menyajikan hasil klasifikasi dalam bentuk tabel yang menunjukkan jumlah prediksi benar dan salah untuk setiap kelas. Confusion Matrix memberikan gambaran lengkap tentang bagaimana model melakukan prediksi dan di mana model membuat kesalahan.\n",
        "\n",
        "### Struktur Confusion Matrix\n",
        "Confusion Matrix untuk masalah klasifikasi biner terdiri dari empat elemen utama:\n",
        "1. True Positive (TP): Jumlah data yang benar-benar positif dan diprediksi sebagai positif oleh model.\n",
        "2. True Negative (TN): Jumlah data yang benar-benar negatif dan diprediksi sebagai negatif oleh model.\n",
        "3. False Positive (FP): Jumlah data yang benar-benar negatif tetapi diprediksi sebagai positif oleh model (juga dikenal sebagai Type I Error).\n",
        "4. False Negative (FN): Jumlah data yang benar-benar positif tetapi diprediksi sebagai negatif oleh model (juga dikenal sebagai Type II Error).\n",
        "\n",
        "Tabel berikut menggambarkan Confusion Matrix untuk klasifikasi biner:\n",
        "![image.png](attachment:image.png)"
      ]
    },
    {
      "cell_type": "markdown",
      "metadata": {
        "id": "_3yIOtILvaDL"
      },
      "source": [
        "#### Contoh Implementasi Confusion Matrix di Python\n",
        "Berikut adalah contoh menghitung Confusion Matrix dan metrik terkait menggunakan scikit-learn di Python:"
      ]
    },
    {
      "cell_type": "code",
      "execution_count": 6,
      "metadata": {
        "id": "UIRrni4evaDL",
        "outputId": "441f9df0-5521-4e35-8ff0-c0bd07ab2631",
        "colab": {
          "base_uri": "https://localhost:8080/"
        }
      },
      "outputs": [
        {
          "output_type": "stream",
          "name": "stdout",
          "text": [
            "Confusion Matrix:\n",
            " [[17  0]\n",
            " [ 0 13]]\n",
            "Accuracy: 1.0\n",
            "Precision: 1.0\n",
            "Recall: 1.0\n",
            "F1-Score: 1.0\n"
          ]
        }
      ],
      "source": [
        "from sklearn.metrics import confusion_matrix, accuracy_score, precision_score, recall_score, f1_score\n",
        "from sklearn.datasets import load_iris\n",
        "from sklearn.model_selection import train_test_split\n",
        "from sklearn.ensemble import RandomForestClassifier\n",
        "\n",
        "# Load dataset\n",
        "data = load_iris()\n",
        "X, y = data.data, data.target\n",
        "\n",
        "# Binary classification (taking only two classes for simplicity)\n",
        "X = X[y != 2]\n",
        "y = y[y != 2]\n",
        "\n",
        "# Split dataset\n",
        "X_train, X_test, y_train, y_test = train_test_split(X, y, test_size=0.3, random_state=42)\n",
        "\n",
        "# Define model\n",
        "model = RandomForestClassifier()\n",
        "\n",
        "# Train model\n",
        "model.fit(X_train, y_train)\n",
        "\n",
        "# Predict\n",
        "y_pred = model.predict(X_test)\n",
        "\n",
        "# Confusion Matrix\n",
        "cm = confusion_matrix(y_test, y_pred)\n",
        "print(\"Confusion Matrix:\\n\", cm)\n",
        "\n",
        "# Metrics\n",
        "accuracy = accuracy_score(y_test, y_pred)\n",
        "precision = precision_score(y_test, y_pred)\n",
        "recall = recall_score(y_test, y_pred)\n",
        "f1 = f1_score(y_test, y_pred)\n",
        "\n",
        "print(\"Accuracy:\", accuracy)\n",
        "print(\"Precision:\", precision)\n",
        "print(\"Recall:\", recall)\n",
        "print(\"F1-Score:\", f1)"
      ]
    },
    {
      "cell_type": "markdown",
      "metadata": {
        "id": "_jx6VEcvvaDM"
      },
      "source": [
        "#### Interpretasi Confussion Matrix\n",
        "![image.png](attachment:image.png)"
      ]
    },
    {
      "cell_type": "markdown",
      "metadata": {
        "id": "cosxUbZHvaDM"
      },
      "source": [
        "Confusion Matrix dan metrik terkait memberikan gambaran yang komprehensif tentang kinerja model, menunjukkan tidak hanya seberapa baik model memprediksi secara keseluruhan tetapi juga bagaimana model menangani berbagai jenis kesalahan."
      ]
    },
    {
      "cell_type": "markdown",
      "metadata": {
        "id": "obSdTn_QvaDN"
      },
      "source": [
        "## 6. Error Analysis\n",
        "Error analysis dalam machine learning adalah proses sistematis untuk mengidentifikasi dan memahami kesalahan yang dilakukan oleh model prediksi. Ini membantu dalam mengevaluasi kinerja model secara mendalam dan mengidentifikasi area untuk perbaikan. Berikut ini adalah beberapa langkah dan teknik yang umum digunakan dalam error analysis:\n",
        "\n",
        "#### a. Menganalisis Confusion Matrix\n",
        "Confusion Matrix menyediakan cara yang komprehensif untuk melihat bagaimana model mengelompokkan prediksi ke dalam kategori benar dan salah. Dengan melihat nilai TP, TN, FP, dan FN, kita bisa memahami pola kesalahan.\n",
        "\n",
        "#### b. Menghitung Metrik Evaluasi\n",
        "Selain metrik umum seperti akurasi, precision, recall, dan F1-score, penting untuk melihat metrik lainnya tergantung pada konteks dan tujuan model.\n",
        "\n",
        "#### c. Visualisasi Kesalahan\n",
        "Visualisasi kesalahan bisa membantu dalam memahami distribusi kesalahan dan mengidentifikasi pola yang tidak terdeteksi hanya dengan melihat metrik numerik.\n",
        "- ROC Curve: Menunjukkan trade-off antara true positive rate dan false positive rate\n",
        "- Precision-Recall Curve: Berguna untuk dataset dengan kelas tidak seimbang.\n",
        "- Error Distribution Plots: Menunjukkan distribusi kesalahan prediksi.\n",
        "\n",
        "#### d. Analisis Kesalahan Per Kelas\n",
        "Mengidentifikasi kelas mana yang paling sering salah diprediksi bisa membantu dalam memahami ketidakseimbangan kelas atau kesulitan spesifik dalam membedakan kelas tertentu.\n",
        "\n",
        "#### e. Analisis Kesalahan Berdasarkan Fitur\n",
        "Melihat kesalahan berdasarkan fitur atau subset dari data bisa membantu dalam menemukan pola atau karakteristik spesifik yang menyebabkan kesalahan.\n",
        "\n",
        "#### f. Menggunakan Teknik Interpretasi Model\n",
        "Teknik seperti SHAP (SHapley Additive exPlanations) dan LIME (Local Interpretable Model-agnostic Explanations) dapat membantu dalam memahami mengapa model membuat prediksi tertentu dan di mana model mungkin salah.\n",
        "\n",
        "#### g. Cross-Validation dan Train/Test Split\n",
        "- Cross-Validation: Membantu dalam memastikan bahwa hasil error analysis tidak terlalu bergantung pada satu split dari data.\n",
        "- Train/Test Split: Membandingkan kinerja model pada set pelatihan dan pengujian bisa menunjukkan apakah model overfitting atau underfitting.\n",
        "\n",
        "#### h. Analisis Residual\n",
        "Dalam masalah regresi, menganalisis residual (selisih antara nilai yang diprediksi dan nilai aktual) bisa menunjukkan pola yang tidak diprediksi dengan baik oleh model."
      ]
    },
    {
      "cell_type": "markdown",
      "metadata": {
        "id": "edy0qUCrvaDN"
      },
      "source": [
        "#### Contoh Implementasi Error Analysis\n",
        "Berikut adalah contoh implementasi dasar error analysis menggunakan confusion matrix dan beberapa metrik evaluasi di Python:\n"
      ]
    },
    {
      "cell_type": "code",
      "execution_count": 7,
      "metadata": {
        "id": "tT_EvygqvaDO",
        "outputId": "85f359c1-e03e-486e-ed83-45db1d4d5346",
        "colab": {
          "base_uri": "https://localhost:8080/",
          "height": 1000
        }
      },
      "outputs": [
        {
          "output_type": "display_data",
          "data": {
            "text/plain": [
              "<Figure size 640x480 with 2 Axes>"
            ],
            "image/png": "[encoded data removed]"
          },
          "metadata": {}
        },
        {
          "output_type": "stream",
          "name": "stdout",
          "text": [
            "              precision    recall  f1-score   support\n",
            "\n",
            "           0       0.80      0.80      0.80         5\n",
            "           1       0.80      0.80      0.80         5\n",
            "\n",
            "    accuracy                           0.80        10\n",
            "   macro avg       0.80      0.80      0.80        10\n",
            "weighted avg       0.80      0.80      0.80        10\n",
            "\n"
          ]
        },
        {
          "output_type": "display_data",
          "data": {
            "text/plain": [
              "<Figure size 640x480 with 1 Axes>"
            ],
            "image/png": "[encoded data removed]"
          },
          "metadata": {}
        },
        {
          "output_type": "display_data",
          "data": {
            "text/plain": [
              "<Figure size 640x480 with 1 Axes>"
            ],
            "image/png": "[encoded data removed]"
          },
          "metadata": {}
        },
        {
          "output_type": "stream",
          "name": "stdout",
          "text": [
            "AUC Score: 0.8\n"
          ]
        }
      ],
      "source": [
        "from sklearn.metrics import confusion_matrix, classification_report, roc_auc_score, roc_curve, precision_recall_curve\n",
        "import matplotlib.pyplot as plt\n",
        "import seaborn as sns\n",
        "\n",
        "# Misalkan kita sudah memiliki y_test dan y_pred\n",
        "y_test = [0, 1, 0, 1, 0, 1, 0, 1, 0, 1]\n",
        "y_pred = [0, 1, 0, 0, 0, 1, 1, 1, 0, 1]\n",
        "\n",
        "# Confusion Matrix\n",
        "cm = confusion_matrix(y_test, y_pred)\n",
        "sns.heatmap(cm, annot=True, fmt='d', cmap='Blues')\n",
        "plt.xlabel('Predicted')\n",
        "plt.ylabel('Actual')\n",
        "plt.show()\n",
        "\n",
        "# Classification Report\n",
        "print(classification_report(y_test, y_pred))\n",
        "\n",
        "# ROC Curve\n",
        "fpr, tpr, _ = roc_curve(y_test, y_pred)\n",
        "plt.plot(fpr, tpr, label='ROC curve')\n",
        "plt.xlabel('False Positive Rate')\n",
        "plt.ylabel('True Positive Rate')\n",
        "plt.title('ROC Curve')\n",
        "plt.legend(loc='best')\n",
        "plt.show()\n",
        "\n",
        "# Precision-Recall Curve\n",
        "precision, recall, _ = precision_recall_curve(y_test, y_pred)\n",
        "plt.plot(recall, precision, label='Precision-Recall curve')\n",
        "plt.xlabel('Recall')\n",
        "plt.ylabel('Precision')\n",
        "plt.title('Precision-Recall Curve')\n",
        "plt.legend(loc='best')\n",
        "plt.show()\n",
        "\n",
        "# AUC Score\n",
        "auc_score = roc_auc_score(y_test, y_pred)\n",
        "print(\"AUC Score:\", auc_score)"
      ]
    },
    {
      "cell_type": "markdown",
      "metadata": {
        "id": "XHtMrQDjvaDO"
      },
      "source": [
        "## 7. Interpretasi Hasil Error\n",
        "Menginterpretasi hasil dari analisis error membantu dalam memahami kekuatan dan kelemahan model. Berikut ini adalah beberapa langkah untuk menginterpretasi hasil dari contoh yang telah diberikan, termasuk confusion matrix, classification report, ROC curve, precision-recall curve, dan AUC score.\n",
        "- Kesalahan Prediksi (False Positives dan False Negatives): Dari confusion matrix, kita dapat melihat bahwa model membuat beberapa kesalahan prediksi. False negatives menunjukkan bahwa model kehilangan beberapa data positif, sedangkan false positives menunjukkan bahwa model salah memprediksi data negatif sebagai positif. Kedua jenis kesalahan ini memiliki implikasi yang berbeda tergantung pada konteks masalah.\n",
        "- Kinerja pada Kelas Tidak Seimbang: Classification report menunjukkan bahwa model memiliki precision dan recall yang cukup baik untuk kedua kelas, tetapi ada ruang untuk perbaikan terutama jika satu kelas lebih penting daripada yang lain.\n",
        "- Kinerja Keseluruhan: AUC score dan precision-recall curve menunjukkan bahwa model memiliki kinerja yang cukup baik dalam membedakan antara kelas positif dan negatif. Namun, jika AUC score atau precision-recall curve menunjukkan kinerja yang rendah, ini mungkin menunjukkan perlunya peningkatan model atau penanganan khusus untuk kelas yang tidak seimbang."
      ]
    }
  ],
  "metadata": {
    "language_info": {
      "name": "python"
    },
    "colab": {
      "provenance": []
    },
    "kernelspec": {
      "name": "python3",
      "display_name": "Python 3"
    }
  },
  "nbformat": 4,
  "nbformat_minor": 0
}